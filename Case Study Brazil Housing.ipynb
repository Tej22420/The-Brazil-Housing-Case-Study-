{
 "cells": [
  {
   "cell_type": "markdown",
   "metadata": {},
   "source": [
    "#### SUMMARY OF THE CASE STUDY \n",
    "\n",
    "Work from home (WFH) has become a new normal for workers around the world. Several companies are allowing at least 40% of their employees to work from home permanently.\n",
    "\n",
    "Sao Paulo and Rio De Janeiro are among the most expensive cities to live in Brazil. Many people are considering relocating to a different city to live and work remotely.\n",
    "\n",
    "Castro Brazila Inc., a top real estate management firm with a nationwide presence in Brazil, wishes to help people choose an alternate city to relocate to.\n",
    "\n",
    "The main aim of this case study is to help firm figure out suitable cities for relocation for bachelors, for mid-sized families, and for large families."
   ]
  },
  {
   "cell_type": "markdown",
   "metadata": {},
   "source": [
    "##### Importing the required packages"
   ]
  },
  {
   "cell_type": "code",
   "execution_count": 1,
   "metadata": {},
   "outputs": [],
   "source": [
    "import matplotlib.pyplot as plt             # to visualize\n",
    "from tabulate import tabulate               # to print the table\n",
    "import matplotlib as mat                    # to visualize \n",
    "import seaborn as sns                       # to visualize\n",
    "import pandas as pd                         # for data reading\n",
    "import numpy as np     "
   ]
  },
  {
   "cell_type": "markdown",
   "metadata": {},
   "source": [
    "#### Level 0 Analysis"
   ]
  },
  {
   "cell_type": "markdown",
   "metadata": {},
   "source": [
    "##### Importing the dataset"
   ]
  },
  {
   "cell_type": "code",
   "execution_count": 2,
   "metadata": {},
   "outputs": [
    {
     "data": {
      "text/html": [
       "<div>\n",
       "<style scoped>\n",
       "    .dataframe tbody tr th:only-of-type {\n",
       "        vertical-align: middle;\n",
       "    }\n",
       "\n",
       "    .dataframe tbody tr th {\n",
       "        vertical-align: top;\n",
       "    }\n",
       "\n",
       "    .dataframe thead th {\n",
       "        text-align: right;\n",
       "    }\n",
       "</style>\n",
       "<table border=\"1\" class=\"dataframe\">\n",
       "  <thead>\n",
       "    <tr style=\"text-align: right;\">\n",
       "      <th></th>\n",
       "      <th>city</th>\n",
       "      <th>area</th>\n",
       "      <th>rooms</th>\n",
       "      <th>bathroom</th>\n",
       "      <th>parking spaces</th>\n",
       "      <th>floor</th>\n",
       "      <th>animal</th>\n",
       "      <th>furniture</th>\n",
       "      <th>hoa (R$)</th>\n",
       "      <th>rent amount (R$)</th>\n",
       "      <th>property tax (R$)</th>\n",
       "      <th>fire insurance (R$)</th>\n",
       "      <th>total (R$)</th>\n",
       "    </tr>\n",
       "  </thead>\n",
       "  <tbody>\n",
       "    <tr>\n",
       "      <th>0</th>\n",
       "      <td>São Paulo</td>\n",
       "      <td>70</td>\n",
       "      <td>2</td>\n",
       "      <td>1</td>\n",
       "      <td>1</td>\n",
       "      <td>7</td>\n",
       "      <td>acept</td>\n",
       "      <td>furnished</td>\n",
       "      <td>2065</td>\n",
       "      <td>3300</td>\n",
       "      <td>211</td>\n",
       "      <td>42</td>\n",
       "      <td>5618</td>\n",
       "    </tr>\n",
       "    <tr>\n",
       "      <th>1</th>\n",
       "      <td>São Paulo</td>\n",
       "      <td>320</td>\n",
       "      <td>4</td>\n",
       "      <td>4</td>\n",
       "      <td>0</td>\n",
       "      <td>20</td>\n",
       "      <td>acept</td>\n",
       "      <td>not furnished</td>\n",
       "      <td>1200</td>\n",
       "      <td>4960</td>\n",
       "      <td>1750</td>\n",
       "      <td>63</td>\n",
       "      <td>7973</td>\n",
       "    </tr>\n",
       "    <tr>\n",
       "      <th>2</th>\n",
       "      <td>Porto Alegre</td>\n",
       "      <td>80</td>\n",
       "      <td>1</td>\n",
       "      <td>1</td>\n",
       "      <td>1</td>\n",
       "      <td>6</td>\n",
       "      <td>acept</td>\n",
       "      <td>not furnished</td>\n",
       "      <td>1000</td>\n",
       "      <td>2800</td>\n",
       "      <td>0</td>\n",
       "      <td>41</td>\n",
       "      <td>3841</td>\n",
       "    </tr>\n",
       "    <tr>\n",
       "      <th>3</th>\n",
       "      <td>Porto Alegre</td>\n",
       "      <td>51</td>\n",
       "      <td>2</td>\n",
       "      <td>1</td>\n",
       "      <td>0</td>\n",
       "      <td>2</td>\n",
       "      <td>acept</td>\n",
       "      <td>not furnished</td>\n",
       "      <td>270</td>\n",
       "      <td>1112</td>\n",
       "      <td>22</td>\n",
       "      <td>17</td>\n",
       "      <td>1421</td>\n",
       "    </tr>\n",
       "    <tr>\n",
       "      <th>4</th>\n",
       "      <td>São Paulo</td>\n",
       "      <td>25</td>\n",
       "      <td>1</td>\n",
       "      <td>1</td>\n",
       "      <td>0</td>\n",
       "      <td>1</td>\n",
       "      <td>not acept</td>\n",
       "      <td>not furnished</td>\n",
       "      <td>0</td>\n",
       "      <td>800</td>\n",
       "      <td>25</td>\n",
       "      <td>11</td>\n",
       "      <td>836</td>\n",
       "    </tr>\n",
       "    <tr>\n",
       "      <th>...</th>\n",
       "      <td>...</td>\n",
       "      <td>...</td>\n",
       "      <td>...</td>\n",
       "      <td>...</td>\n",
       "      <td>...</td>\n",
       "      <td>...</td>\n",
       "      <td>...</td>\n",
       "      <td>...</td>\n",
       "      <td>...</td>\n",
       "      <td>...</td>\n",
       "      <td>...</td>\n",
       "      <td>...</td>\n",
       "      <td>...</td>\n",
       "    </tr>\n",
       "    <tr>\n",
       "      <th>10687</th>\n",
       "      <td>Porto Alegre</td>\n",
       "      <td>63</td>\n",
       "      <td>2</td>\n",
       "      <td>1</td>\n",
       "      <td>1</td>\n",
       "      <td>5</td>\n",
       "      <td>not acept</td>\n",
       "      <td>furnished</td>\n",
       "      <td>402</td>\n",
       "      <td>1478</td>\n",
       "      <td>24</td>\n",
       "      <td>22</td>\n",
       "      <td>1926</td>\n",
       "    </tr>\n",
       "    <tr>\n",
       "      <th>10688</th>\n",
       "      <td>São Paulo</td>\n",
       "      <td>285</td>\n",
       "      <td>4</td>\n",
       "      <td>4</td>\n",
       "      <td>4</td>\n",
       "      <td>17</td>\n",
       "      <td>acept</td>\n",
       "      <td>not furnished</td>\n",
       "      <td>3100</td>\n",
       "      <td>15000</td>\n",
       "      <td>973</td>\n",
       "      <td>191</td>\n",
       "      <td>19260</td>\n",
       "    </tr>\n",
       "    <tr>\n",
       "      <th>10689</th>\n",
       "      <td>Rio de Janeiro</td>\n",
       "      <td>70</td>\n",
       "      <td>3</td>\n",
       "      <td>3</td>\n",
       "      <td>0</td>\n",
       "      <td>8</td>\n",
       "      <td>not acept</td>\n",
       "      <td>furnished</td>\n",
       "      <td>980</td>\n",
       "      <td>6000</td>\n",
       "      <td>332</td>\n",
       "      <td>78</td>\n",
       "      <td>7390</td>\n",
       "    </tr>\n",
       "    <tr>\n",
       "      <th>10690</th>\n",
       "      <td>Rio de Janeiro</td>\n",
       "      <td>120</td>\n",
       "      <td>2</td>\n",
       "      <td>2</td>\n",
       "      <td>2</td>\n",
       "      <td>8</td>\n",
       "      <td>acept</td>\n",
       "      <td>furnished</td>\n",
       "      <td>1585</td>\n",
       "      <td>12000</td>\n",
       "      <td>279</td>\n",
       "      <td>155</td>\n",
       "      <td>14020</td>\n",
       "    </tr>\n",
       "    <tr>\n",
       "      <th>10691</th>\n",
       "      <td>São Paulo</td>\n",
       "      <td>80</td>\n",
       "      <td>2</td>\n",
       "      <td>1</td>\n",
       "      <td>0</td>\n",
       "      <td>0</td>\n",
       "      <td>acept</td>\n",
       "      <td>not furnished</td>\n",
       "      <td>0</td>\n",
       "      <td>1400</td>\n",
       "      <td>165</td>\n",
       "      <td>22</td>\n",
       "      <td>1587</td>\n",
       "    </tr>\n",
       "  </tbody>\n",
       "</table>\n",
       "<p>10692 rows × 13 columns</p>\n",
       "</div>"
      ],
      "text/plain": [
       "                 city  area  rooms  bathroom  parking spaces  floor  \\\n",
       "0           São Paulo    70      2         1               1      7   \n",
       "1           São Paulo   320      4         4               0     20   \n",
       "2        Porto Alegre    80      1         1               1      6   \n",
       "3        Porto Alegre    51      2         1               0      2   \n",
       "4           São Paulo    25      1         1               0      1   \n",
       "...               ...   ...    ...       ...             ...    ...   \n",
       "10687    Porto Alegre    63      2         1               1      5   \n",
       "10688       São Paulo   285      4         4               4     17   \n",
       "10689  Rio de Janeiro    70      3         3               0      8   \n",
       "10690  Rio de Janeiro   120      2         2               2      8   \n",
       "10691       São Paulo    80      2         1               0      0   \n",
       "\n",
       "          animal      furniture  hoa (R$)  rent amount (R$)  \\\n",
       "0          acept      furnished      2065              3300   \n",
       "1          acept  not furnished      1200              4960   \n",
       "2          acept  not furnished      1000              2800   \n",
       "3          acept  not furnished       270              1112   \n",
       "4      not acept  not furnished         0               800   \n",
       "...          ...            ...       ...               ...   \n",
       "10687  not acept      furnished       402              1478   \n",
       "10688      acept  not furnished      3100             15000   \n",
       "10689  not acept      furnished       980              6000   \n",
       "10690      acept      furnished      1585             12000   \n",
       "10691      acept  not furnished         0              1400   \n",
       "\n",
       "       property tax (R$)  fire insurance (R$)  total (R$)  \n",
       "0                    211                   42        5618  \n",
       "1                   1750                   63        7973  \n",
       "2                      0                   41        3841  \n",
       "3                     22                   17        1421  \n",
       "4                     25                   11         836  \n",
       "...                  ...                  ...         ...  \n",
       "10687                 24                   22        1926  \n",
       "10688                973                  191       19260  \n",
       "10689                332                   78        7390  \n",
       "10690                279                  155       14020  \n",
       "10691                165                   22        1587  \n",
       "\n",
       "[10692 rows x 13 columns]"
      ]
     },
     "execution_count": 2,
     "metadata": {},
     "output_type": "execute_result"
    }
   ],
   "source": [
    "df = pd.read_csv(\"DS1_C5_S3_BazilHousing_Data_Hackathon.csv\")\n",
    "df"
   ]
  },
  {
   "cell_type": "markdown",
   "metadata": {},
   "source": [
    "##### Preview of columns"
   ]
  },
  {
   "cell_type": "code",
   "execution_count": 3,
   "metadata": {},
   "outputs": [
    {
     "name": "stdout",
     "output_type": "stream",
     "text": [
      "Index(['city', 'area', 'rooms', 'bathroom', 'parking spaces', 'floor',\n",
      "       'animal', 'furniture', 'hoa (R$)', 'rent amount (R$)',\n",
      "       'property tax (R$)', 'fire insurance (R$)', 'total (R$)'],\n",
      "      dtype='object')\n"
     ]
    }
   ],
   "source": [
    "print(df.columns)"
   ]
  },
  {
   "cell_type": "markdown",
   "metadata": {},
   "source": [
    "##### Previewing the data"
   ]
  },
  {
   "cell_type": "code",
   "execution_count": 4,
   "metadata": {},
   "outputs": [
    {
     "data": {
      "text/html": [
       "<div>\n",
       "<style scoped>\n",
       "    .dataframe tbody tr th:only-of-type {\n",
       "        vertical-align: middle;\n",
       "    }\n",
       "\n",
       "    .dataframe tbody tr th {\n",
       "        vertical-align: top;\n",
       "    }\n",
       "\n",
       "    .dataframe thead th {\n",
       "        text-align: right;\n",
       "    }\n",
       "</style>\n",
       "<table border=\"1\" class=\"dataframe\">\n",
       "  <thead>\n",
       "    <tr style=\"text-align: right;\">\n",
       "      <th></th>\n",
       "      <th>city</th>\n",
       "      <th>area</th>\n",
       "      <th>rooms</th>\n",
       "      <th>bathroom</th>\n",
       "      <th>parking spaces</th>\n",
       "      <th>floor</th>\n",
       "      <th>animal</th>\n",
       "      <th>furniture</th>\n",
       "      <th>hoa (R$)</th>\n",
       "      <th>rent amount (R$)</th>\n",
       "      <th>property tax (R$)</th>\n",
       "      <th>fire insurance (R$)</th>\n",
       "      <th>total (R$)</th>\n",
       "    </tr>\n",
       "  </thead>\n",
       "  <tbody>\n",
       "    <tr>\n",
       "      <th>0</th>\n",
       "      <td>São Paulo</td>\n",
       "      <td>70</td>\n",
       "      <td>2</td>\n",
       "      <td>1</td>\n",
       "      <td>1</td>\n",
       "      <td>7</td>\n",
       "      <td>acept</td>\n",
       "      <td>furnished</td>\n",
       "      <td>2065</td>\n",
       "      <td>3300</td>\n",
       "      <td>211</td>\n",
       "      <td>42</td>\n",
       "      <td>5618</td>\n",
       "    </tr>\n",
       "    <tr>\n",
       "      <th>1</th>\n",
       "      <td>São Paulo</td>\n",
       "      <td>320</td>\n",
       "      <td>4</td>\n",
       "      <td>4</td>\n",
       "      <td>0</td>\n",
       "      <td>20</td>\n",
       "      <td>acept</td>\n",
       "      <td>not furnished</td>\n",
       "      <td>1200</td>\n",
       "      <td>4960</td>\n",
       "      <td>1750</td>\n",
       "      <td>63</td>\n",
       "      <td>7973</td>\n",
       "    </tr>\n",
       "    <tr>\n",
       "      <th>2</th>\n",
       "      <td>Porto Alegre</td>\n",
       "      <td>80</td>\n",
       "      <td>1</td>\n",
       "      <td>1</td>\n",
       "      <td>1</td>\n",
       "      <td>6</td>\n",
       "      <td>acept</td>\n",
       "      <td>not furnished</td>\n",
       "      <td>1000</td>\n",
       "      <td>2800</td>\n",
       "      <td>0</td>\n",
       "      <td>41</td>\n",
       "      <td>3841</td>\n",
       "    </tr>\n",
       "    <tr>\n",
       "      <th>3</th>\n",
       "      <td>Porto Alegre</td>\n",
       "      <td>51</td>\n",
       "      <td>2</td>\n",
       "      <td>1</td>\n",
       "      <td>0</td>\n",
       "      <td>2</td>\n",
       "      <td>acept</td>\n",
       "      <td>not furnished</td>\n",
       "      <td>270</td>\n",
       "      <td>1112</td>\n",
       "      <td>22</td>\n",
       "      <td>17</td>\n",
       "      <td>1421</td>\n",
       "    </tr>\n",
       "    <tr>\n",
       "      <th>4</th>\n",
       "      <td>São Paulo</td>\n",
       "      <td>25</td>\n",
       "      <td>1</td>\n",
       "      <td>1</td>\n",
       "      <td>0</td>\n",
       "      <td>1</td>\n",
       "      <td>not acept</td>\n",
       "      <td>not furnished</td>\n",
       "      <td>0</td>\n",
       "      <td>800</td>\n",
       "      <td>25</td>\n",
       "      <td>11</td>\n",
       "      <td>836</td>\n",
       "    </tr>\n",
       "  </tbody>\n",
       "</table>\n",
       "</div>"
      ],
      "text/plain": [
       "           city  area  rooms  bathroom  parking spaces  floor     animal  \\\n",
       "0     São Paulo    70      2         1               1      7      acept   \n",
       "1     São Paulo   320      4         4               0     20      acept   \n",
       "2  Porto Alegre    80      1         1               1      6      acept   \n",
       "3  Porto Alegre    51      2         1               0      2      acept   \n",
       "4     São Paulo    25      1         1               0      1  not acept   \n",
       "\n",
       "       furniture  hoa (R$)  rent amount (R$)  property tax (R$)  \\\n",
       "0      furnished      2065              3300                211   \n",
       "1  not furnished      1200              4960               1750   \n",
       "2  not furnished      1000              2800                  0   \n",
       "3  not furnished       270              1112                 22   \n",
       "4  not furnished         0               800                 25   \n",
       "\n",
       "   fire insurance (R$)  total (R$)  \n",
       "0                   42        5618  \n",
       "1                   63        7973  \n",
       "2                   41        3841  \n",
       "3                   17        1421  \n",
       "4                   11         836  "
      ]
     },
     "execution_count": 4,
     "metadata": {},
     "output_type": "execute_result"
    }
   ],
   "source": [
    "df.head()"
   ]
  },
  {
   "cell_type": "code",
   "execution_count": 5,
   "metadata": {},
   "outputs": [
    {
     "data": {
      "text/html": [
       "<div>\n",
       "<style scoped>\n",
       "    .dataframe tbody tr th:only-of-type {\n",
       "        vertical-align: middle;\n",
       "    }\n",
       "\n",
       "    .dataframe tbody tr th {\n",
       "        vertical-align: top;\n",
       "    }\n",
       "\n",
       "    .dataframe thead th {\n",
       "        text-align: right;\n",
       "    }\n",
       "</style>\n",
       "<table border=\"1\" class=\"dataframe\">\n",
       "  <thead>\n",
       "    <tr style=\"text-align: right;\">\n",
       "      <th></th>\n",
       "      <th>city</th>\n",
       "      <th>area</th>\n",
       "      <th>rooms</th>\n",
       "      <th>bathroom</th>\n",
       "      <th>parking spaces</th>\n",
       "      <th>floor</th>\n",
       "      <th>animal</th>\n",
       "      <th>furniture</th>\n",
       "      <th>hoa (R$)</th>\n",
       "      <th>rent amount (R$)</th>\n",
       "      <th>property tax (R$)</th>\n",
       "      <th>fire insurance (R$)</th>\n",
       "      <th>total (R$)</th>\n",
       "    </tr>\n",
       "  </thead>\n",
       "  <tbody>\n",
       "    <tr>\n",
       "      <th>10687</th>\n",
       "      <td>Porto Alegre</td>\n",
       "      <td>63</td>\n",
       "      <td>2</td>\n",
       "      <td>1</td>\n",
       "      <td>1</td>\n",
       "      <td>5</td>\n",
       "      <td>not acept</td>\n",
       "      <td>furnished</td>\n",
       "      <td>402</td>\n",
       "      <td>1478</td>\n",
       "      <td>24</td>\n",
       "      <td>22</td>\n",
       "      <td>1926</td>\n",
       "    </tr>\n",
       "    <tr>\n",
       "      <th>10688</th>\n",
       "      <td>São Paulo</td>\n",
       "      <td>285</td>\n",
       "      <td>4</td>\n",
       "      <td>4</td>\n",
       "      <td>4</td>\n",
       "      <td>17</td>\n",
       "      <td>acept</td>\n",
       "      <td>not furnished</td>\n",
       "      <td>3100</td>\n",
       "      <td>15000</td>\n",
       "      <td>973</td>\n",
       "      <td>191</td>\n",
       "      <td>19260</td>\n",
       "    </tr>\n",
       "    <tr>\n",
       "      <th>10689</th>\n",
       "      <td>Rio de Janeiro</td>\n",
       "      <td>70</td>\n",
       "      <td>3</td>\n",
       "      <td>3</td>\n",
       "      <td>0</td>\n",
       "      <td>8</td>\n",
       "      <td>not acept</td>\n",
       "      <td>furnished</td>\n",
       "      <td>980</td>\n",
       "      <td>6000</td>\n",
       "      <td>332</td>\n",
       "      <td>78</td>\n",
       "      <td>7390</td>\n",
       "    </tr>\n",
       "    <tr>\n",
       "      <th>10690</th>\n",
       "      <td>Rio de Janeiro</td>\n",
       "      <td>120</td>\n",
       "      <td>2</td>\n",
       "      <td>2</td>\n",
       "      <td>2</td>\n",
       "      <td>8</td>\n",
       "      <td>acept</td>\n",
       "      <td>furnished</td>\n",
       "      <td>1585</td>\n",
       "      <td>12000</td>\n",
       "      <td>279</td>\n",
       "      <td>155</td>\n",
       "      <td>14020</td>\n",
       "    </tr>\n",
       "    <tr>\n",
       "      <th>10691</th>\n",
       "      <td>São Paulo</td>\n",
       "      <td>80</td>\n",
       "      <td>2</td>\n",
       "      <td>1</td>\n",
       "      <td>0</td>\n",
       "      <td>0</td>\n",
       "      <td>acept</td>\n",
       "      <td>not furnished</td>\n",
       "      <td>0</td>\n",
       "      <td>1400</td>\n",
       "      <td>165</td>\n",
       "      <td>22</td>\n",
       "      <td>1587</td>\n",
       "    </tr>\n",
       "  </tbody>\n",
       "</table>\n",
       "</div>"
      ],
      "text/plain": [
       "                 city  area  rooms  bathroom  parking spaces  floor  \\\n",
       "10687    Porto Alegre    63      2         1               1      5   \n",
       "10688       São Paulo   285      4         4               4     17   \n",
       "10689  Rio de Janeiro    70      3         3               0      8   \n",
       "10690  Rio de Janeiro   120      2         2               2      8   \n",
       "10691       São Paulo    80      2         1               0      0   \n",
       "\n",
       "          animal      furniture  hoa (R$)  rent amount (R$)  \\\n",
       "10687  not acept      furnished       402              1478   \n",
       "10688      acept  not furnished      3100             15000   \n",
       "10689  not acept      furnished       980              6000   \n",
       "10690      acept      furnished      1585             12000   \n",
       "10691      acept  not furnished         0              1400   \n",
       "\n",
       "       property tax (R$)  fire insurance (R$)  total (R$)  \n",
       "10687                 24                   22        1926  \n",
       "10688                973                  191       19260  \n",
       "10689                332                   78        7390  \n",
       "10690                279                  155       14020  \n",
       "10691                165                   22        1587  "
      ]
     },
     "execution_count": 5,
     "metadata": {},
     "output_type": "execute_result"
    }
   ],
   "source": [
    "df.tail()"
   ]
  },
  {
   "cell_type": "code",
   "execution_count": 6,
   "metadata": {},
   "outputs": [
    {
     "data": {
      "text/plain": [
       "(10692, 13)"
      ]
     },
     "execution_count": 6,
     "metadata": {},
     "output_type": "execute_result"
    }
   ],
   "source": [
    "# Finding the number of rows and number of columns in data \n",
    "df.shape"
   ]
  },
  {
   "cell_type": "code",
   "execution_count": 7,
   "metadata": {},
   "outputs": [
    {
     "name": "stdout",
     "output_type": "stream",
     "text": [
      "<class 'pandas.core.frame.DataFrame'>\n",
      "RangeIndex: 10692 entries, 0 to 10691\n",
      "Data columns (total 13 columns):\n",
      " #   Column               Non-Null Count  Dtype \n",
      "---  ------               --------------  ----- \n",
      " 0   city                 10692 non-null  object\n",
      " 1   area                 10692 non-null  int64 \n",
      " 2   rooms                10692 non-null  int64 \n",
      " 3   bathroom             10692 non-null  int64 \n",
      " 4   parking spaces       10692 non-null  int64 \n",
      " 5   floor                10692 non-null  int64 \n",
      " 6   animal               10692 non-null  object\n",
      " 7   furniture            10692 non-null  object\n",
      " 8   hoa (R$)             10692 non-null  int64 \n",
      " 9   rent amount (R$)     10692 non-null  int64 \n",
      " 10  property tax (R$)    10692 non-null  int64 \n",
      " 11  fire insurance (R$)  10692 non-null  int64 \n",
      " 12  total (R$)           10692 non-null  int64 \n",
      "dtypes: int64(10), object(3)\n",
      "memory usage: 1.1+ MB\n"
     ]
    }
   ],
   "source": [
    "# Finding the information of the data\n",
    "df.info()"
   ]
  },
  {
   "cell_type": "code",
   "execution_count": 8,
   "metadata": {},
   "outputs": [
    {
     "data": {
      "text/plain": [
       "city                   0\n",
       "area                   0\n",
       "rooms                  0\n",
       "bathroom               0\n",
       "parking spaces         0\n",
       "floor                  0\n",
       "animal                 0\n",
       "furniture              0\n",
       "hoa (R$)               0\n",
       "rent amount (R$)       0\n",
       "property tax (R$)      0\n",
       "fire insurance (R$)    0\n",
       "total (R$)             0\n",
       "dtype: int64"
      ]
     },
     "execution_count": 8,
     "metadata": {},
     "output_type": "execute_result"
    }
   ],
   "source": [
    "df.isnull().sum()   \n",
    "\n",
    "### No null values are present"
   ]
  },
  {
   "cell_type": "code",
   "execution_count": 9,
   "metadata": {},
   "outputs": [
    {
     "name": "stdout",
     "output_type": "stream",
     "text": [
      "Removed all the duplicate values from the data\n"
     ]
    }
   ],
   "source": [
    "# Checking if there are any duplicate values and removing them.\n",
    "duplicates = df[df.duplicated(keep=False)]\n",
    "\n",
    "if not duplicates.empty:\n",
    "    df.drop_duplicates(inplace = True)\n",
    "    print(\"Removed all the duplicate values from the data\")\n",
    "else:\n",
    "    print(\"No duplicate rows found\")"
   ]
  },
  {
   "cell_type": "code",
   "execution_count": 10,
   "metadata": {},
   "outputs": [
    {
     "name": "stdout",
     "output_type": "stream",
     "text": [
      "categorical     continuous\n",
      "--------------  -------------------\n",
      "city            area\n",
      "rooms           hoa (R$)\n",
      "bathroom        rent amount (R$)\n",
      "parking spaces  property tax (R$)\n",
      "floor           fire insurance (R$)\n",
      "animal          total (R$)\n",
      "furniture\n"
     ]
    }
   ],
   "source": [
    "### Segregating the values in categorical and continous columns\n",
    "def seprate_data_types(df):\n",
    "    categorical = []\n",
    "    continuous = []\n",
    "    for column in df.columns:                \n",
    "        if df[column].nunique() < 40:      \n",
    "                                                    \n",
    "            categorical.append(column)\n",
    "        else:\n",
    "            continuous.append(column)\n",
    "            \n",
    "    return categorical, continuous \n",
    "\n",
    "\n",
    "categorical, continuous = seprate_data_types(df)         \n",
    "\n",
    "\n",
    "from tabulate import tabulate\n",
    "table = [categorical, continuous]\n",
    "print(tabulate({\"Categorical\":categorical,\n",
    "                \"continuous\": continuous}, headers = [\"categorical\", \"continuous\"]))"
   ]
  },
  {
   "cell_type": "code",
   "execution_count": 11,
   "metadata": {},
   "outputs": [],
   "source": [
    "def info_of_cat(col): \n",
    "    print(f\"Unique values in {col} are: {df[col].unique()}\")\n",
    "    print(f\"Mode of {col} is {df[col].mode()[0]}\")  \n",
    "    print(f\"Number of missing values in {col} is {df[col].isnull().sum()}\")"
   ]
  },
  {
   "cell_type": "code",
   "execution_count": 12,
   "metadata": {},
   "outputs": [
    {
     "name": "stdout",
     "output_type": "stream",
     "text": [
      "Unique values in city are: ['São Paulo' 'Porto Alegre' 'Rio de Janeiro' 'Campinas' 'Belo Horizonte']\n",
      "Mode of city is São Paulo\n",
      "Number of missing values in city is 0\n"
     ]
    }
   ],
   "source": [
    "info_of_cat(\"city\")"
   ]
  },
  {
   "cell_type": "code",
   "execution_count": 13,
   "metadata": {},
   "outputs": [
    {
     "name": "stdout",
     "output_type": "stream",
     "text": [
      "Unique values in rooms are: [ 2  4  1  3  7  5  8  6 10 13  9]\n",
      "Mode of rooms is 3\n",
      "Number of missing values in rooms is 0\n"
     ]
    }
   ],
   "source": [
    "info_of_cat(\"rooms\")"
   ]
  },
  {
   "cell_type": "code",
   "execution_count": 14,
   "metadata": {},
   "outputs": [
    {
     "name": "stdout",
     "output_type": "stream",
     "text": [
      "Unique values in bathroom are: [ 1  4  3  2  6  5  7  9  8 10]\n",
      "Mode of bathroom is 1\n",
      "Number of missing values in bathroom is 0\n"
     ]
    }
   ],
   "source": [
    "info_of_cat(\"bathroom\")"
   ]
  },
  {
   "cell_type": "code",
   "execution_count": 15,
   "metadata": {},
   "outputs": [
    {
     "name": "stdout",
     "output_type": "stream",
     "text": [
      "Unique values in parking spaces are: [ 1  0  7  4  2  6  3  8  5 10 12]\n",
      "Mode of parking spaces is 1\n",
      "Number of missing values in parking spaces is 0\n"
     ]
    }
   ],
   "source": [
    "info_of_cat(\"parking spaces\")"
   ]
  },
  {
   "cell_type": "code",
   "execution_count": 16,
   "metadata": {},
   "outputs": [
    {
     "name": "stdout",
     "output_type": "stream",
     "text": [
      "Unique values in floor are: [  7  20   6   2   1   0   4   3  10  11  24   9   8  17  18   5  13  15\n",
      "  16  14  26  12  21  19  22  27  23  35  25  46  28  29 301  51  32]\n",
      "Mode of floor is 0\n",
      "Number of missing values in floor is 0\n"
     ]
    }
   ],
   "source": [
    "info_of_cat(\"floor\")"
   ]
  },
  {
   "cell_type": "code",
   "execution_count": 17,
   "metadata": {},
   "outputs": [
    {
     "name": "stdout",
     "output_type": "stream",
     "text": [
      "Unique values in animal are: ['acept' 'not acept']\n",
      "Mode of animal is acept\n",
      "Number of missing values in animal is 0\n"
     ]
    }
   ],
   "source": [
    "info_of_cat(\"animal\")"
   ]
  },
  {
   "cell_type": "code",
   "execution_count": 18,
   "metadata": {},
   "outputs": [
    {
     "name": "stdout",
     "output_type": "stream",
     "text": [
      "Unique values in furniture are: ['furnished' 'not furnished']\n",
      "Mode of furniture is not furnished\n",
      "Number of missing values in furniture is 0\n"
     ]
    }
   ],
   "source": [
    "info_of_cat(\"furniture\")"
   ]
  },
  {
   "cell_type": "markdown",
   "metadata": {},
   "source": [
    "#### Numerical Analysis and removing outliers"
   ]
  },
  {
   "cell_type": "code",
   "execution_count": 19,
   "metadata": {},
   "outputs": [],
   "source": [
    "def info_of_numerical(col):\n",
    "    print(f\"The mean of the {col} is {df[col].mean()}\")\n",
    "    print(f\"The median of the {col} is {df[col].median()}\")\n",
    "    print(f\"The mode of the {col} is {df[col].mode()[0]}\")\n",
    "    print(f\"The standard deviation of the {col} is {df[col].std()}\")\n",
    "    print(f\"Number of missing values in the {col} is {df[col].isnull().sum()}\")"
   ]
  },
  {
   "cell_type": "code",
   "execution_count": 20,
   "metadata": {},
   "outputs": [
    {
     "name": "stdout",
     "output_type": "stream",
     "text": [
      "The mean of the hoa (R$) is 1091.2439520030966\n",
      "The median of the hoa (R$) is 571.0\n",
      "The mode of the hoa (R$) is 0\n",
      "The standard deviation of the hoa (R$) is 11446.092262576984\n",
      "Number of missing values in the hoa (R$) is 0\n"
     ]
    }
   ],
   "source": [
    "info_of_numerical(\"hoa (R$)\")"
   ]
  },
  {
   "cell_type": "code",
   "execution_count": 21,
   "metadata": {},
   "outputs": [
    {
     "name": "stdout",
     "output_type": "stream",
     "text": [
      "The mean of the rent amount (R$) is 3966.2960131604414\n",
      "The median of the rent amount (R$) is 2750.0\n",
      "The mode of the rent amount (R$) is 2500\n",
      "The standard deviation of the rent amount (R$) is 3436.190007478068\n",
      "Number of missing values in the rent amount (R$) is 0\n"
     ]
    }
   ],
   "source": [
    "info_of_numerical(\"rent amount (R$)\")"
   ]
  },
  {
   "cell_type": "code",
   "execution_count": 22,
   "metadata": {},
   "outputs": [
    {
     "name": "stdout",
     "output_type": "stream",
     "text": [
      "The mean of the property tax (R$) is 376.92926262821754\n",
      "The median of the property tax (R$) is 130.0\n",
      "The mode of the property tax (R$) is 0\n",
      "The standard deviation of the property tax (R$) is 3160.602165032796\n",
      "Number of missing values in the property tax (R$) is 0\n"
     ]
    }
   ],
   "source": [
    "info_of_numerical(\"property tax (R$)\")"
   ]
  },
  {
   "cell_type": "code",
   "execution_count": 23,
   "metadata": {},
   "outputs": [
    {
     "name": "stdout",
     "output_type": "stream",
     "text": [
      "The mean of the fire insurance (R$) is 54.26427327269209\n",
      "The median of the fire insurance (R$) is 37.0\n",
      "The mode of the fire insurance (R$) is 20\n",
      "The standard deviation of the fire insurance (R$) is 48.164380365782655\n",
      "Number of missing values in the fire insurance (R$) is 0\n"
     ]
    }
   ],
   "source": [
    "info_of_numerical(\"fire insurance (R$)\")"
   ]
  },
  {
   "cell_type": "code",
   "execution_count": 24,
   "metadata": {},
   "outputs": [
    {
     "name": "stdout",
     "output_type": "stream",
     "text": [
      "The mean of the total (R$) is 5488.9434875169345\n",
      "The median of the total (R$) is 3685.5\n",
      "The mode of the total (R$) is 1219\n",
      "The standard deviation of the total (R$) is 12669.110756359949\n",
      "Number of missing values in the total (R$) is 0\n"
     ]
    }
   ],
   "source": [
    "info_of_numerical(\"total (R$)\")"
   ]
  },
  {
   "cell_type": "markdown",
   "metadata": {},
   "source": [
    "#### For Bachelors   \n",
    "#### Level 0 Analysis"
   ]
  },
  {
   "cell_type": "code",
   "execution_count": 25,
   "metadata": {},
   "outputs": [],
   "source": [
    "B_city = df[(df.city =='Porto Alegre') | (df.city =='Campinas') | (df.city =='Belo Horizonte')]"
   ]
  },
  {
   "cell_type": "code",
   "execution_count": 26,
   "metadata": {},
   "outputs": [],
   "source": [
    "# Filter the data for bachelor properties\n",
    "bachelor_df = B_city[(B_city['rooms'] <= 1) & (B_city['bathroom'] <= 1) & (B_city['parking spaces'] <= 1)]"
   ]
  },
  {
   "cell_type": "code",
   "execution_count": 27,
   "metadata": {},
   "outputs": [
    {
     "data": {
      "text/html": [
       "<div>\n",
       "<style scoped>\n",
       "    .dataframe tbody tr th:only-of-type {\n",
       "        vertical-align: middle;\n",
       "    }\n",
       "\n",
       "    .dataframe tbody tr th {\n",
       "        vertical-align: top;\n",
       "    }\n",
       "\n",
       "    .dataframe thead th {\n",
       "        text-align: right;\n",
       "    }\n",
       "</style>\n",
       "<table border=\"1\" class=\"dataframe\">\n",
       "  <thead>\n",
       "    <tr style=\"text-align: right;\">\n",
       "      <th></th>\n",
       "      <th>city</th>\n",
       "      <th>area</th>\n",
       "      <th>rooms</th>\n",
       "      <th>bathroom</th>\n",
       "      <th>parking spaces</th>\n",
       "      <th>floor</th>\n",
       "      <th>animal</th>\n",
       "      <th>furniture</th>\n",
       "      <th>hoa (R$)</th>\n",
       "      <th>rent amount (R$)</th>\n",
       "      <th>property tax (R$)</th>\n",
       "      <th>fire insurance (R$)</th>\n",
       "      <th>total (R$)</th>\n",
       "    </tr>\n",
       "  </thead>\n",
       "  <tbody>\n",
       "    <tr>\n",
       "      <th>2</th>\n",
       "      <td>Porto Alegre</td>\n",
       "      <td>80</td>\n",
       "      <td>1</td>\n",
       "      <td>1</td>\n",
       "      <td>1</td>\n",
       "      <td>6</td>\n",
       "      <td>acept</td>\n",
       "      <td>not furnished</td>\n",
       "      <td>1000</td>\n",
       "      <td>2800</td>\n",
       "      <td>0</td>\n",
       "      <td>41</td>\n",
       "      <td>3841</td>\n",
       "    </tr>\n",
       "    <tr>\n",
       "      <th>11</th>\n",
       "      <td>Campinas</td>\n",
       "      <td>46</td>\n",
       "      <td>1</td>\n",
       "      <td>1</td>\n",
       "      <td>1</td>\n",
       "      <td>10</td>\n",
       "      <td>acept</td>\n",
       "      <td>not furnished</td>\n",
       "      <td>550</td>\n",
       "      <td>580</td>\n",
       "      <td>43</td>\n",
       "      <td>8</td>\n",
       "      <td>1181</td>\n",
       "    </tr>\n",
       "    <tr>\n",
       "      <th>21</th>\n",
       "      <td>Belo Horizonte</td>\n",
       "      <td>42</td>\n",
       "      <td>1</td>\n",
       "      <td>1</td>\n",
       "      <td>1</td>\n",
       "      <td>17</td>\n",
       "      <td>not acept</td>\n",
       "      <td>furnished</td>\n",
       "      <td>470</td>\n",
       "      <td>2690</td>\n",
       "      <td>172</td>\n",
       "      <td>36</td>\n",
       "      <td>3368</td>\n",
       "    </tr>\n",
       "    <tr>\n",
       "      <th>39</th>\n",
       "      <td>Porto Alegre</td>\n",
       "      <td>40</td>\n",
       "      <td>1</td>\n",
       "      <td>1</td>\n",
       "      <td>1</td>\n",
       "      <td>6</td>\n",
       "      <td>acept</td>\n",
       "      <td>furnished</td>\n",
       "      <td>390</td>\n",
       "      <td>2990</td>\n",
       "      <td>0</td>\n",
       "      <td>44</td>\n",
       "      <td>3424</td>\n",
       "    </tr>\n",
       "    <tr>\n",
       "      <th>43</th>\n",
       "      <td>Belo Horizonte</td>\n",
       "      <td>45</td>\n",
       "      <td>1</td>\n",
       "      <td>1</td>\n",
       "      <td>1</td>\n",
       "      <td>5</td>\n",
       "      <td>acept</td>\n",
       "      <td>not furnished</td>\n",
       "      <td>500</td>\n",
       "      <td>1631</td>\n",
       "      <td>192</td>\n",
       "      <td>12</td>\n",
       "      <td>2335</td>\n",
       "    </tr>\n",
       "  </tbody>\n",
       "</table>\n",
       "</div>"
      ],
      "text/plain": [
       "              city  area  rooms  bathroom  parking spaces  floor     animal  \\\n",
       "2     Porto Alegre    80      1         1               1      6      acept   \n",
       "11        Campinas    46      1         1               1     10      acept   \n",
       "21  Belo Horizonte    42      1         1               1     17  not acept   \n",
       "39    Porto Alegre    40      1         1               1      6      acept   \n",
       "43  Belo Horizonte    45      1         1               1      5      acept   \n",
       "\n",
       "        furniture  hoa (R$)  rent amount (R$)  property tax (R$)  \\\n",
       "2   not furnished      1000              2800                  0   \n",
       "11  not furnished       550               580                 43   \n",
       "21      furnished       470              2690                172   \n",
       "39      furnished       390              2990                  0   \n",
       "43  not furnished       500              1631                192   \n",
       "\n",
       "    fire insurance (R$)  total (R$)  \n",
       "2                    41        3841  \n",
       "11                    8        1181  \n",
       "21                   36        3368  \n",
       "39                   44        3424  \n",
       "43                   12        2335  "
      ]
     },
     "execution_count": 27,
     "metadata": {},
     "output_type": "execute_result"
    }
   ],
   "source": [
    "bachelor_df.head()"
   ]
  },
  {
   "cell_type": "code",
   "execution_count": 28,
   "metadata": {},
   "outputs": [
    {
     "data": {
      "text/html": [
       "<div>\n",
       "<style scoped>\n",
       "    .dataframe tbody tr th:only-of-type {\n",
       "        vertical-align: middle;\n",
       "    }\n",
       "\n",
       "    .dataframe tbody tr th {\n",
       "        vertical-align: top;\n",
       "    }\n",
       "\n",
       "    .dataframe thead th {\n",
       "        text-align: right;\n",
       "    }\n",
       "</style>\n",
       "<table border=\"1\" class=\"dataframe\">\n",
       "  <thead>\n",
       "    <tr style=\"text-align: right;\">\n",
       "      <th></th>\n",
       "      <th>city</th>\n",
       "      <th>area</th>\n",
       "      <th>rooms</th>\n",
       "      <th>bathroom</th>\n",
       "      <th>parking spaces</th>\n",
       "      <th>floor</th>\n",
       "      <th>animal</th>\n",
       "      <th>furniture</th>\n",
       "      <th>hoa (R$)</th>\n",
       "      <th>rent amount (R$)</th>\n",
       "      <th>property tax (R$)</th>\n",
       "      <th>fire insurance (R$)</th>\n",
       "      <th>total (R$)</th>\n",
       "    </tr>\n",
       "  </thead>\n",
       "  <tbody>\n",
       "    <tr>\n",
       "      <th>10609</th>\n",
       "      <td>Campinas</td>\n",
       "      <td>53</td>\n",
       "      <td>1</td>\n",
       "      <td>1</td>\n",
       "      <td>1</td>\n",
       "      <td>8</td>\n",
       "      <td>not acept</td>\n",
       "      <td>not furnished</td>\n",
       "      <td>550</td>\n",
       "      <td>650</td>\n",
       "      <td>36</td>\n",
       "      <td>9</td>\n",
       "      <td>1245</td>\n",
       "    </tr>\n",
       "    <tr>\n",
       "      <th>10627</th>\n",
       "      <td>Belo Horizonte</td>\n",
       "      <td>22</td>\n",
       "      <td>1</td>\n",
       "      <td>1</td>\n",
       "      <td>0</td>\n",
       "      <td>0</td>\n",
       "      <td>acept</td>\n",
       "      <td>not furnished</td>\n",
       "      <td>30</td>\n",
       "      <td>450</td>\n",
       "      <td>13</td>\n",
       "      <td>6</td>\n",
       "      <td>499</td>\n",
       "    </tr>\n",
       "    <tr>\n",
       "      <th>10632</th>\n",
       "      <td>Porto Alegre</td>\n",
       "      <td>18</td>\n",
       "      <td>1</td>\n",
       "      <td>1</td>\n",
       "      <td>0</td>\n",
       "      <td>3</td>\n",
       "      <td>not acept</td>\n",
       "      <td>furnished</td>\n",
       "      <td>370</td>\n",
       "      <td>1090</td>\n",
       "      <td>0</td>\n",
       "      <td>16</td>\n",
       "      <td>1476</td>\n",
       "    </tr>\n",
       "    <tr>\n",
       "      <th>10642</th>\n",
       "      <td>Porto Alegre</td>\n",
       "      <td>40</td>\n",
       "      <td>1</td>\n",
       "      <td>1</td>\n",
       "      <td>0</td>\n",
       "      <td>2</td>\n",
       "      <td>acept</td>\n",
       "      <td>not furnished</td>\n",
       "      <td>230</td>\n",
       "      <td>700</td>\n",
       "      <td>9</td>\n",
       "      <td>11</td>\n",
       "      <td>950</td>\n",
       "    </tr>\n",
       "    <tr>\n",
       "      <th>10676</th>\n",
       "      <td>Porto Alegre</td>\n",
       "      <td>40</td>\n",
       "      <td>1</td>\n",
       "      <td>1</td>\n",
       "      <td>0</td>\n",
       "      <td>1</td>\n",
       "      <td>acept</td>\n",
       "      <td>not furnished</td>\n",
       "      <td>330</td>\n",
       "      <td>1200</td>\n",
       "      <td>159</td>\n",
       "      <td>18</td>\n",
       "      <td>1707</td>\n",
       "    </tr>\n",
       "  </tbody>\n",
       "</table>\n",
       "</div>"
      ],
      "text/plain": [
       "                 city  area  rooms  bathroom  parking spaces  floor  \\\n",
       "10609        Campinas    53      1         1               1      8   \n",
       "10627  Belo Horizonte    22      1         1               0      0   \n",
       "10632    Porto Alegre    18      1         1               0      3   \n",
       "10642    Porto Alegre    40      1         1               0      2   \n",
       "10676    Porto Alegre    40      1         1               0      1   \n",
       "\n",
       "          animal      furniture  hoa (R$)  rent amount (R$)  \\\n",
       "10609  not acept  not furnished       550               650   \n",
       "10627      acept  not furnished        30               450   \n",
       "10632  not acept      furnished       370              1090   \n",
       "10642      acept  not furnished       230               700   \n",
       "10676      acept  not furnished       330              1200   \n",
       "\n",
       "       property tax (R$)  fire insurance (R$)  total (R$)  \n",
       "10609                 36                    9        1245  \n",
       "10627                 13                    6         499  \n",
       "10632                  0                   16        1476  \n",
       "10642                  9                   11         950  \n",
       "10676                159                   18        1707  "
      ]
     },
     "execution_count": 28,
     "metadata": {},
     "output_type": "execute_result"
    }
   ],
   "source": [
    "bachelor_df.tail()"
   ]
  },
  {
   "cell_type": "markdown",
   "metadata": {},
   "source": [
    "#### Level 1 Analysis\n",
    "##### Visual Representation\n"
   ]
  },
  {
   "cell_type": "code",
   "execution_count": 29,
   "metadata": {},
   "outputs": [
    {
     "data": {
      "image/png": "[encoded data removed]",
      "text/plain": [
       "<Figure size 720x360 with 1 Axes>"
      ]
     },
     "metadata": {
      "needs_background": "light"
     },
     "output_type": "display_data"
    }
   ],
   "source": [
    "# Plotting a bar chart to visualize the distribution of bachelor properties\n",
    "city_counts = bachelor_df['city'].value_counts()\n",
    "plt.figure(figsize=(10, 5))\n",
    "plt.bar(city_counts.index, city_counts.values)\n",
    "plt.xlabel('City')\n",
    "plt.ylabel('Number of Bachelor Properties')\n",
    "plt.title('Distribution of Bachelor Properties')\n",
    "plt.xticks(rotation=45)\n",
    "plt.show()"
   ]
  },
  {
   "cell_type": "markdown",
   "metadata": {},
   "source": [
    "##### Interpretation: Porto Alegre is the city with the most number of properties following it are Campinas and Belo Horizonte. So, if someone wants to move from Sao Paulo or Rio De Janerio, Porto Alegre is the best option for them."
   ]
  },
  {
   "cell_type": "code",
   "execution_count": 30,
   "metadata": {},
   "outputs": [
    {
     "data": {
      "image/png": "[encoded data removed]",
      "text/plain": [
       "<Figure size 1080x504 with 2 Axes>"
      ]
     },
     "metadata": {
      "needs_background": "light"
     },
     "output_type": "display_data"
    }
   ],
   "source": [
    "fix, ax = plt.subplots(1,2, figsize = (15,7))\n",
    "ax[0].set_title(\"Count of city\")\n",
    "percentage = bachelor_df[\"city\"].value_counts()\n",
    "labels = list(bachelor_df[\"city\"].value_counts().index)\n",
    "\n",
    "sns.countplot(x = bachelor_df[\"city\"], ax=ax[0])\n",
    "plt.pie(percentage,labels = labels, autopct = \"%0.2f%%\")\n",
    "\n",
    "plt.show()"
   ]
  },
  {
   "cell_type": "markdown",
   "metadata": {},
   "source": [
    "##### Interpretation: Porto Alegre covers atleast 50.81% of the residential areas."
   ]
  },
  {
   "cell_type": "markdown",
   "metadata": {},
   "source": [
    "#### Level 2 Analysis: Bivariate Analysis\n",
    "* Based on the preference of bachelors, we will analyse the data further.\n",
    "* The next factor on which we can analyse is The cost of the property"
   ]
  },
  {
   "cell_type": "markdown",
   "metadata": {},
   "source": [
    "#### Q.) What is the cost distribution for the bachelors for one room, one bathroom and one parking space?"
   ]
  },
  {
   "cell_type": "code",
   "execution_count": 31,
   "metadata": {},
   "outputs": [
    {
     "name": "stdout",
     "output_type": "stream",
     "text": [
      "Average cost is 1708.1548387096775\n",
      "Minimum cost is 499\n",
      "Maximum cost is 32750\n"
     ]
    },
    {
     "data": {
      "image/png": "[encoded data removed]",
      "text/plain": [
       "<Figure size 864x432 with 1 Axes>"
      ]
     },
     "metadata": {
      "needs_background": "light"
     },
     "output_type": "display_data"
    }
   ],
   "source": [
    "mean = bachelor_df['total (R$)'].mean()\n",
    "print(\"Average cost is\", mean)\n",
    "\n",
    "minimum = bachelor_df['total (R$)'].min()\n",
    "print(\"Minimum cost is\", minimum)\n",
    "\n",
    "maximum = bachelor_df['total (R$)'].max()\n",
    "print(\"Maximum cost is\", maximum)\n",
    "\n",
    "plt.figure(figsize=(12, 6))\n",
    "sns.histplot(data=bachelor_df, x='total (R$)',kde =True, bins=30, color='skyblue')\n",
    "plt.title('Distribution of Total Cost for Bachelors')\n",
    "plt.xlabel('Total Cost (R$)')\n",
    "plt.ylabel('Frequency')\n",
    "plt.grid(True)  \n",
    "plt.show()"
   ]
  },
  {
   "cell_type": "markdown",
   "metadata": {},
   "source": [
    "##### Interpretation: Each bar in the histogram represents a range of total costs, and the height of each bar represents the frequency. The minimum cost one has to pay is 499 dollars and the maximum cost is 32750 dollars."
   ]
  },
  {
   "cell_type": "markdown",
   "metadata": {},
   "source": [
    "#### Q.) What are average cost a bachelor need to pay in different cities."
   ]
  },
  {
   "cell_type": "code",
   "execution_count": 12,
   "metadata": {},
   "outputs": [
    {
     "name": "stdout",
     "output_type": "stream",
     "text": [
      "Average cost for bachelor in different cities:\n",
      "                 rent amount (R$)    hoa (R$)  property tax (R$)  \\\n",
      "city                                                              \n",
      "Belo Horizonte       1359.926471  269.220588          62.750000   \n",
      "Campinas             1123.528796  480.633508          41.560209   \n",
      "Porto Alegre         1289.423188  421.255072          45.113043   \n",
      "\n",
      "                fire insurance (R$)  \n",
      "city                                 \n",
      "Belo Horizonte            18.727941  \n",
      "Campinas                  14.769634  \n",
      "Porto Alegre              19.414493  \n"
     ]
    },
    {
     "data": {
      "image/png": "[encoded data removed]",
      "text/plain": [
       "<Figure size 864x432 with 1 Axes>"
      ]
     },
     "metadata": {
      "needs_background": "light"
     },
     "output_type": "display_data"
    }
   ],
   "source": [
    "average_costs_for_bachelor = bachelor_df.groupby(['city'])[['rent amount (R$)', 'hoa (R$)', 'property tax (R$)', 'fire insurance (R$)']].mean()\n",
    "print(\"Average cost for bachelor in different cities:\\n\",average_costs_for_bachelor)\n",
    "\n",
    "# Plotting a bar chart to visualize the average costs for bachelor properties in different cities\n",
    "average_costs_for_bachelor.plot(kind='bar', figsize=(12, 6))\n",
    "plt.xlabel('City')\n",
    "plt.ylabel('Average Cost (R$)')\n",
    "plt.title('Average Costs for Bachelor Properties in Different Cities')\n",
    "plt.xticks(rotation=45)\n",
    "plt.show()"
   ]
  },
  {
   "cell_type": "markdown",
   "metadata": {},
   "source": [
    "##### Interpretation: The rental costs are minimum in Campinas."
   ]
  },
  {
   "cell_type": "markdown",
   "metadata": {},
   "source": [
    "### For Mid sized families"
   ]
  },
  {
   "cell_type": "markdown",
   "metadata": {},
   "source": [
    "#### Level 0 Analysis"
   ]
  },
  {
   "cell_type": "code",
   "execution_count": 60,
   "metadata": {},
   "outputs": [],
   "source": [
    "mid_size_df = B_city[(B_city['rooms'] == 3) | (B_city['rooms'] == 2) & (B_city['bathroom'] <= 2) & (B_city['parking spaces'] <= 2)]"
   ]
  },
  {
   "cell_type": "code",
   "execution_count": 61,
   "metadata": {},
   "outputs": [
    {
     "data": {
      "text/html": [
       "<div>\n",
       "<style scoped>\n",
       "    .dataframe tbody tr th:only-of-type {\n",
       "        vertical-align: middle;\n",
       "    }\n",
       "\n",
       "    .dataframe tbody tr th {\n",
       "        vertical-align: top;\n",
       "    }\n",
       "\n",
       "    .dataframe thead th {\n",
       "        text-align: right;\n",
       "    }\n",
       "</style>\n",
       "<table border=\"1\" class=\"dataframe\">\n",
       "  <thead>\n",
       "    <tr style=\"text-align: right;\">\n",
       "      <th></th>\n",
       "      <th>city</th>\n",
       "      <th>area</th>\n",
       "      <th>rooms</th>\n",
       "      <th>bathroom</th>\n",
       "      <th>parking spaces</th>\n",
       "      <th>floor</th>\n",
       "      <th>animal</th>\n",
       "      <th>furniture</th>\n",
       "      <th>hoa (R$)</th>\n",
       "      <th>rent amount (R$)</th>\n",
       "      <th>property tax (R$)</th>\n",
       "      <th>fire insurance (R$)</th>\n",
       "      <th>total (R$)</th>\n",
       "    </tr>\n",
       "  </thead>\n",
       "  <tbody>\n",
       "    <tr>\n",
       "      <th>3</th>\n",
       "      <td>Porto Alegre</td>\n",
       "      <td>51</td>\n",
       "      <td>2</td>\n",
       "      <td>1</td>\n",
       "      <td>0</td>\n",
       "      <td>2</td>\n",
       "      <td>acept</td>\n",
       "      <td>not furnished</td>\n",
       "      <td>270</td>\n",
       "      <td>1112</td>\n",
       "      <td>22</td>\n",
       "      <td>17</td>\n",
       "      <td>1421</td>\n",
       "    </tr>\n",
       "    <tr>\n",
       "      <th>27</th>\n",
       "      <td>Belo Horizonte</td>\n",
       "      <td>64</td>\n",
       "      <td>2</td>\n",
       "      <td>2</td>\n",
       "      <td>1</td>\n",
       "      <td>11</td>\n",
       "      <td>acept</td>\n",
       "      <td>not furnished</td>\n",
       "      <td>352</td>\n",
       "      <td>1500</td>\n",
       "      <td>80</td>\n",
       "      <td>20</td>\n",
       "      <td>1952</td>\n",
       "    </tr>\n",
       "    <tr>\n",
       "      <th>28</th>\n",
       "      <td>Campinas</td>\n",
       "      <td>208</td>\n",
       "      <td>3</td>\n",
       "      <td>2</td>\n",
       "      <td>4</td>\n",
       "      <td>0</td>\n",
       "      <td>acept</td>\n",
       "      <td>not furnished</td>\n",
       "      <td>0</td>\n",
       "      <td>3180</td>\n",
       "      <td>100</td>\n",
       "      <td>48</td>\n",
       "      <td>3328</td>\n",
       "    </tr>\n",
       "    <tr>\n",
       "      <th>37</th>\n",
       "      <td>Belo Horizonte</td>\n",
       "      <td>80</td>\n",
       "      <td>3</td>\n",
       "      <td>2</td>\n",
       "      <td>1</td>\n",
       "      <td>0</td>\n",
       "      <td>acept</td>\n",
       "      <td>not furnished</td>\n",
       "      <td>0</td>\n",
       "      <td>11000</td>\n",
       "      <td>425</td>\n",
       "      <td>181</td>\n",
       "      <td>11610</td>\n",
       "    </tr>\n",
       "    <tr>\n",
       "      <th>46</th>\n",
       "      <td>Belo Horizonte</td>\n",
       "      <td>100</td>\n",
       "      <td>3</td>\n",
       "      <td>1</td>\n",
       "      <td>0</td>\n",
       "      <td>13</td>\n",
       "      <td>not acept</td>\n",
       "      <td>not furnished</td>\n",
       "      <td>700</td>\n",
       "      <td>1220</td>\n",
       "      <td>10</td>\n",
       "      <td>17</td>\n",
       "      <td>1947</td>\n",
       "    </tr>\n",
       "  </tbody>\n",
       "</table>\n",
       "</div>"
      ],
      "text/plain": [
       "              city  area  rooms  bathroom  parking spaces  floor     animal  \\\n",
       "3     Porto Alegre    51      2         1               0      2      acept   \n",
       "27  Belo Horizonte    64      2         2               1     11      acept   \n",
       "28        Campinas   208      3         2               4      0      acept   \n",
       "37  Belo Horizonte    80      3         2               1      0      acept   \n",
       "46  Belo Horizonte   100      3         1               0     13  not acept   \n",
       "\n",
       "        furniture  hoa (R$)  rent amount (R$)  property tax (R$)  \\\n",
       "3   not furnished       270              1112                 22   \n",
       "27  not furnished       352              1500                 80   \n",
       "28  not furnished         0              3180                100   \n",
       "37  not furnished         0             11000                425   \n",
       "46  not furnished       700              1220                 10   \n",
       "\n",
       "    fire insurance (R$)  total (R$)  \n",
       "3                    17        1421  \n",
       "27                   20        1952  \n",
       "28                   48        3328  \n",
       "37                  181       11610  \n",
       "46                   17        1947  "
      ]
     },
     "execution_count": 61,
     "metadata": {},
     "output_type": "execute_result"
    }
   ],
   "source": [
    "mid_size_df.head()"
   ]
  },
  {
   "cell_type": "code",
   "execution_count": 62,
   "metadata": {},
   "outputs": [
    {
     "data": {
      "text/html": [
       "<div>\n",
       "<style scoped>\n",
       "    .dataframe tbody tr th:only-of-type {\n",
       "        vertical-align: middle;\n",
       "    }\n",
       "\n",
       "    .dataframe tbody tr th {\n",
       "        vertical-align: top;\n",
       "    }\n",
       "\n",
       "    .dataframe thead th {\n",
       "        text-align: right;\n",
       "    }\n",
       "</style>\n",
       "<table border=\"1\" class=\"dataframe\">\n",
       "  <thead>\n",
       "    <tr style=\"text-align: right;\">\n",
       "      <th></th>\n",
       "      <th>city</th>\n",
       "      <th>area</th>\n",
       "      <th>rooms</th>\n",
       "      <th>bathroom</th>\n",
       "      <th>parking spaces</th>\n",
       "      <th>floor</th>\n",
       "      <th>animal</th>\n",
       "      <th>furniture</th>\n",
       "      <th>hoa (R$)</th>\n",
       "      <th>rent amount (R$)</th>\n",
       "      <th>property tax (R$)</th>\n",
       "      <th>fire insurance (R$)</th>\n",
       "      <th>total (R$)</th>\n",
       "    </tr>\n",
       "  </thead>\n",
       "  <tbody>\n",
       "    <tr>\n",
       "      <th>10665</th>\n",
       "      <td>Belo Horizonte</td>\n",
       "      <td>55</td>\n",
       "      <td>2</td>\n",
       "      <td>1</td>\n",
       "      <td>1</td>\n",
       "      <td>2</td>\n",
       "      <td>not acept</td>\n",
       "      <td>furnished</td>\n",
       "      <td>200</td>\n",
       "      <td>1600</td>\n",
       "      <td>75</td>\n",
       "      <td>22</td>\n",
       "      <td>1897</td>\n",
       "    </tr>\n",
       "    <tr>\n",
       "      <th>10667</th>\n",
       "      <td>Belo Horizonte</td>\n",
       "      <td>75</td>\n",
       "      <td>2</td>\n",
       "      <td>1</td>\n",
       "      <td>1</td>\n",
       "      <td>3</td>\n",
       "      <td>not acept</td>\n",
       "      <td>not furnished</td>\n",
       "      <td>180</td>\n",
       "      <td>1250</td>\n",
       "      <td>0</td>\n",
       "      <td>17</td>\n",
       "      <td>1447</td>\n",
       "    </tr>\n",
       "    <tr>\n",
       "      <th>10673</th>\n",
       "      <td>Porto Alegre</td>\n",
       "      <td>220</td>\n",
       "      <td>3</td>\n",
       "      <td>2</td>\n",
       "      <td>2</td>\n",
       "      <td>15</td>\n",
       "      <td>acept</td>\n",
       "      <td>not furnished</td>\n",
       "      <td>842</td>\n",
       "      <td>2400</td>\n",
       "      <td>117</td>\n",
       "      <td>36</td>\n",
       "      <td>3395</td>\n",
       "    </tr>\n",
       "    <tr>\n",
       "      <th>10682</th>\n",
       "      <td>Porto Alegre</td>\n",
       "      <td>160</td>\n",
       "      <td>3</td>\n",
       "      <td>2</td>\n",
       "      <td>3</td>\n",
       "      <td>4</td>\n",
       "      <td>acept</td>\n",
       "      <td>furnished</td>\n",
       "      <td>850</td>\n",
       "      <td>3300</td>\n",
       "      <td>220</td>\n",
       "      <td>49</td>\n",
       "      <td>4419</td>\n",
       "    </tr>\n",
       "    <tr>\n",
       "      <th>10687</th>\n",
       "      <td>Porto Alegre</td>\n",
       "      <td>63</td>\n",
       "      <td>2</td>\n",
       "      <td>1</td>\n",
       "      <td>1</td>\n",
       "      <td>5</td>\n",
       "      <td>not acept</td>\n",
       "      <td>furnished</td>\n",
       "      <td>402</td>\n",
       "      <td>1478</td>\n",
       "      <td>24</td>\n",
       "      <td>22</td>\n",
       "      <td>1926</td>\n",
       "    </tr>\n",
       "  </tbody>\n",
       "</table>\n",
       "</div>"
      ],
      "text/plain": [
       "                 city  area  rooms  bathroom  parking spaces  floor  \\\n",
       "10665  Belo Horizonte    55      2         1               1      2   \n",
       "10667  Belo Horizonte    75      2         1               1      3   \n",
       "10673    Porto Alegre   220      3         2               2     15   \n",
       "10682    Porto Alegre   160      3         2               3      4   \n",
       "10687    Porto Alegre    63      2         1               1      5   \n",
       "\n",
       "          animal      furniture  hoa (R$)  rent amount (R$)  \\\n",
       "10665  not acept      furnished       200              1600   \n",
       "10667  not acept  not furnished       180              1250   \n",
       "10673      acept  not furnished       842              2400   \n",
       "10682      acept      furnished       850              3300   \n",
       "10687  not acept      furnished       402              1478   \n",
       "\n",
       "       property tax (R$)  fire insurance (R$)  total (R$)  \n",
       "10665                 75                   22        1897  \n",
       "10667                  0                   17        1447  \n",
       "10673                117                   36        3395  \n",
       "10682                220                   49        4419  \n",
       "10687                 24                   22        1926  "
      ]
     },
     "execution_count": 62,
     "metadata": {},
     "output_type": "execute_result"
    }
   ],
   "source": [
    "mid_size_df.tail()"
   ]
  },
  {
   "cell_type": "markdown",
   "metadata": {},
   "source": [
    "#### Level 1 Analysis"
   ]
  },
  {
   "cell_type": "markdown",
   "metadata": {},
   "source": [
    "##### Visual Representation"
   ]
  },
  {
   "cell_type": "code",
   "execution_count": 63,
   "metadata": {},
   "outputs": [
    {
     "data": {
      "image/png": "[encoded data removed]",
      "text/plain": [
       "<Figure size 720x360 with 1 Axes>"
      ]
     },
     "metadata": {
      "needs_background": "light"
     },
     "output_type": "display_data"
    }
   ],
   "source": [
    "# Plot a bar chart to visualize the distribution of mid-sized family properties \n",
    "city_counts = mid_size_df['city'].value_counts()\n",
    "plt.figure(figsize=(10, 5))\n",
    "plt.bar(city_counts.index, city_counts.values)\n",
    "plt.xlabel('City')\n",
    "plt.ylabel('Number of Mid-sized Family Properties')\n",
    "plt.title('Distribution of Mid-sized Family Properties in Different Cities')\n",
    "plt.xticks(rotation=45)\n",
    "plt.show()"
   ]
  },
  {
   "cell_type": "markdown",
   "metadata": {},
   "source": [
    "##### Interpretation: For mid sized families, Porto Alegre is the city with most number of properties."
   ]
  },
  {
   "cell_type": "code",
   "execution_count": 64,
   "metadata": {},
   "outputs": [
    {
     "data": {
      "image/png": "[encoded data removed]",
      "text/plain": [
       "<Figure size 1080x504 with 2 Axes>"
      ]
     },
     "metadata": {
      "needs_background": "light"
     },
     "output_type": "display_data"
    }
   ],
   "source": [
    "fix, ax = plt.subplots(1,2, figsize = (15,7))\n",
    "ax[0].set_title(\"Count of city\")\n",
    "percentage = mid_size_df[\"city\"].value_counts()\n",
    "labels = list(mid_size_df[\"city\"].value_counts().index)\n",
    "\n",
    "sns.countplot(x = bachelor_df[\"city\"], ax=ax[0])\n",
    "plt.pie(percentage,labels = labels, autopct = \"%0.2f%%\")\n",
    "\n",
    "plt.show()"
   ]
  },
  {
   "cell_type": "markdown",
   "metadata": {},
   "source": [
    "###### Interpretation: Porto Alegre covers approx. =~ 43.23% of the properties."
   ]
  },
  {
   "cell_type": "markdown",
   "metadata": {},
   "source": [
    "#### Level 2 Analysis"
   ]
  },
  {
   "cell_type": "markdown",
   "metadata": {},
   "source": [
    "#### Q.) What is the price a mid size family has to pay?"
   ]
  },
  {
   "cell_type": "code",
   "execution_count": 65,
   "metadata": {},
   "outputs": [
    {
     "name": "stdout",
     "output_type": "stream",
     "text": [
      "The minimum cost is 550\n",
      "The maximum cost is 23250\n"
     ]
    }
   ],
   "source": [
    "minimum = mid_size_df['total (R$)'].min()\n",
    "maximum = mid_size_df['total (R$)'].max()\n",
    "\n",
    "print(\"The minimum cost is\", minimum)\n",
    "print(\"The maximum cost is\", maximum)\n"
   ]
  },
  {
   "cell_type": "code",
   "execution_count": 66,
   "metadata": {},
   "outputs": [
    {
     "data": {
      "image/png": "[encoded data removed]",
      "text/plain": [
       "<Figure size 864x432 with 1 Axes>"
      ]
     },
     "metadata": {
      "needs_background": "light"
     },
     "output_type": "display_data"
    }
   ],
   "source": [
    "plt.figure(figsize=(12, 6))\n",
    "sns.histplot(data=mid_size_df, x='total (R$)', kde =True, bins=30, color='skyblue')\n",
    "plt.title('Distribution of Total Cost for Mid sized families')\n",
    "plt.xlabel('Total Cost (R$)')\n",
    "plt.ylabel('Frequency')\n",
    "plt.grid(True)  \n",
    "plt.show()"
   ]
  },
  {
   "cell_type": "markdown",
   "metadata": {},
   "source": [
    "##### Interpretation: Each bar in the histogram represents a range of total costs, and the height of each bar represents the frequency. The minimum cost one has to pay is 550 dollars and the maximum cost is 23250 dollars."
   ]
  },
  {
   "cell_type": "markdown",
   "metadata": {},
   "source": [
    "#### Q.) What will be the average cost for mid-size families?"
   ]
  },
  {
   "cell_type": "code",
   "execution_count": 67,
   "metadata": {},
   "outputs": [
    {
     "name": "stdout",
     "output_type": "stream",
     "text": [
      "The average cost for mid-size families is:\n",
      "                 rent amount (R$)    hoa (R$)  property tax (R$)  \\\n",
      "city                                                              \n",
      "Belo Horizonte       2295.131833  401.268489         155.408360   \n",
      "Campinas             2187.909836  594.956967         135.161885   \n",
      "Porto Alegre         2369.760402  528.794835         131.532281   \n",
      "\n",
      "                fire insurance (R$)  \n",
      "city                                 \n",
      "Belo Horizonte            32.987138  \n",
      "Campinas                  29.563525  \n",
      "Porto Alegre              36.232425  \n"
     ]
    },
    {
     "data": {
      "image/png": "[encoded data removed]",
      "text/plain": [
       "<Figure size 864x432 with 1 Axes>"
      ]
     },
     "metadata": {
      "needs_background": "light"
     },
     "output_type": "display_data"
    }
   ],
   "source": [
    "# Calculate the average costs for mid-sized family properties in each city\n",
    "average_costs_for_mid_size = mid_size_df.groupby(['city'])[['rent amount (R$)', 'hoa (R$)', 'property tax (R$)', 'fire insurance (R$)']].mean()\n",
    "\n",
    "print(\"The average cost for mid-size families is:\\n\",average_costs_for_mid_size)\n",
    "# Plot a bar chart to visualize the average costs for mid-sized family properties in different cities\n",
    "average_costs_for_mid_size.plot(kind='bar', figsize=(12, 6))\n",
    "plt.xlabel('City')\n",
    "plt.ylabel('Average Cost (R$)')\n",
    "plt.title('Average Costs for Mid-sized Family Properties in Different Cities')\n",
    "plt.xticks(rotation=45)\n",
    "plt.show()"
   ]
  },
  {
   "cell_type": "markdown",
   "metadata": {},
   "source": [
    "##### For mid-sized families Campinas is the most feasible place to live."
   ]
  },
  {
   "cell_type": "markdown",
   "metadata": {},
   "source": [
    "### For Large Sized Family"
   ]
  },
  {
   "cell_type": "markdown",
   "metadata": {},
   "source": [
    "#### Level 0 Analysis"
   ]
  },
  {
   "cell_type": "code",
   "execution_count": 49,
   "metadata": {},
   "outputs": [],
   "source": [
    "large_size_df = B_city[(B_city['rooms'] > 3) | (B_city['bathroom'] > 3) | (B_city['parking spaces'] > 2)]"
   ]
  },
  {
   "cell_type": "code",
   "execution_count": 50,
   "metadata": {},
   "outputs": [
    {
     "data": {
      "text/html": [
       "<div>\n",
       "<style scoped>\n",
       "    .dataframe tbody tr th:only-of-type {\n",
       "        vertical-align: middle;\n",
       "    }\n",
       "\n",
       "    .dataframe tbody tr th {\n",
       "        vertical-align: top;\n",
       "    }\n",
       "\n",
       "    .dataframe thead th {\n",
       "        text-align: right;\n",
       "    }\n",
       "</style>\n",
       "<table border=\"1\" class=\"dataframe\">\n",
       "  <thead>\n",
       "    <tr style=\"text-align: right;\">\n",
       "      <th></th>\n",
       "      <th>city</th>\n",
       "      <th>area</th>\n",
       "      <th>rooms</th>\n",
       "      <th>bathroom</th>\n",
       "      <th>parking spaces</th>\n",
       "      <th>floor</th>\n",
       "      <th>animal</th>\n",
       "      <th>furniture</th>\n",
       "      <th>hoa (R$)</th>\n",
       "      <th>rent amount (R$)</th>\n",
       "      <th>property tax (R$)</th>\n",
       "      <th>fire insurance (R$)</th>\n",
       "      <th>total (R$)</th>\n",
       "    </tr>\n",
       "  </thead>\n",
       "  <tbody>\n",
       "    <tr>\n",
       "      <th>15</th>\n",
       "      <td>Campinas</td>\n",
       "      <td>330</td>\n",
       "      <td>4</td>\n",
       "      <td>6</td>\n",
       "      <td>6</td>\n",
       "      <td>0</td>\n",
       "      <td>acept</td>\n",
       "      <td>furnished</td>\n",
       "      <td>680</td>\n",
       "      <td>8000</td>\n",
       "      <td>328</td>\n",
       "      <td>121</td>\n",
       "      <td>9129</td>\n",
       "    </tr>\n",
       "    <tr>\n",
       "      <th>28</th>\n",
       "      <td>Campinas</td>\n",
       "      <td>208</td>\n",
       "      <td>3</td>\n",
       "      <td>2</td>\n",
       "      <td>4</td>\n",
       "      <td>0</td>\n",
       "      <td>acept</td>\n",
       "      <td>not furnished</td>\n",
       "      <td>0</td>\n",
       "      <td>3180</td>\n",
       "      <td>100</td>\n",
       "      <td>48</td>\n",
       "      <td>3328</td>\n",
       "    </tr>\n",
       "    <tr>\n",
       "      <th>42</th>\n",
       "      <td>Belo Horizonte</td>\n",
       "      <td>200</td>\n",
       "      <td>4</td>\n",
       "      <td>2</td>\n",
       "      <td>1</td>\n",
       "      <td>7</td>\n",
       "      <td>not acept</td>\n",
       "      <td>not furnished</td>\n",
       "      <td>850</td>\n",
       "      <td>2550</td>\n",
       "      <td>9</td>\n",
       "      <td>34</td>\n",
       "      <td>3443</td>\n",
       "    </tr>\n",
       "    <tr>\n",
       "      <th>65</th>\n",
       "      <td>Campinas</td>\n",
       "      <td>300</td>\n",
       "      <td>4</td>\n",
       "      <td>4</td>\n",
       "      <td>3</td>\n",
       "      <td>2</td>\n",
       "      <td>acept</td>\n",
       "      <td>not furnished</td>\n",
       "      <td>2300</td>\n",
       "      <td>6000</td>\n",
       "      <td>417</td>\n",
       "      <td>77</td>\n",
       "      <td>8794</td>\n",
       "    </tr>\n",
       "    <tr>\n",
       "      <th>70</th>\n",
       "      <td>Belo Horizonte</td>\n",
       "      <td>220</td>\n",
       "      <td>4</td>\n",
       "      <td>2</td>\n",
       "      <td>3</td>\n",
       "      <td>3</td>\n",
       "      <td>acept</td>\n",
       "      <td>not furnished</td>\n",
       "      <td>450</td>\n",
       "      <td>2422</td>\n",
       "      <td>125</td>\n",
       "      <td>33</td>\n",
       "      <td>3030</td>\n",
       "    </tr>\n",
       "  </tbody>\n",
       "</table>\n",
       "</div>"
      ],
      "text/plain": [
       "              city  area  rooms  bathroom  parking spaces  floor     animal  \\\n",
       "15        Campinas   330      4         6               6      0      acept   \n",
       "28        Campinas   208      3         2               4      0      acept   \n",
       "42  Belo Horizonte   200      4         2               1      7  not acept   \n",
       "65        Campinas   300      4         4               3      2      acept   \n",
       "70  Belo Horizonte   220      4         2               3      3      acept   \n",
       "\n",
       "        furniture  hoa (R$)  rent amount (R$)  property tax (R$)  \\\n",
       "15      furnished       680              8000                328   \n",
       "28  not furnished         0              3180                100   \n",
       "42  not furnished       850              2550                  9   \n",
       "65  not furnished      2300              6000                417   \n",
       "70  not furnished       450              2422                125   \n",
       "\n",
       "    fire insurance (R$)  total (R$)  \n",
       "15                  121        9129  \n",
       "28                   48        3328  \n",
       "42                   34        3443  \n",
       "65                   77        8794  \n",
       "70                   33        3030  "
      ]
     },
     "execution_count": 50,
     "metadata": {},
     "output_type": "execute_result"
    }
   ],
   "source": [
    "large_size_df.head()"
   ]
  },
  {
   "cell_type": "code",
   "execution_count": 51,
   "metadata": {},
   "outputs": [
    {
     "data": {
      "text/html": [
       "<div>\n",
       "<style scoped>\n",
       "    .dataframe tbody tr th:only-of-type {\n",
       "        vertical-align: middle;\n",
       "    }\n",
       "\n",
       "    .dataframe tbody tr th {\n",
       "        vertical-align: top;\n",
       "    }\n",
       "\n",
       "    .dataframe thead th {\n",
       "        text-align: right;\n",
       "    }\n",
       "</style>\n",
       "<table border=\"1\" class=\"dataframe\">\n",
       "  <thead>\n",
       "    <tr style=\"text-align: right;\">\n",
       "      <th></th>\n",
       "      <th>city</th>\n",
       "      <th>area</th>\n",
       "      <th>rooms</th>\n",
       "      <th>bathroom</th>\n",
       "      <th>parking spaces</th>\n",
       "      <th>floor</th>\n",
       "      <th>animal</th>\n",
       "      <th>furniture</th>\n",
       "      <th>hoa (R$)</th>\n",
       "      <th>rent amount (R$)</th>\n",
       "      <th>property tax (R$)</th>\n",
       "      <th>fire insurance (R$)</th>\n",
       "      <th>total (R$)</th>\n",
       "    </tr>\n",
       "  </thead>\n",
       "  <tbody>\n",
       "    <tr>\n",
       "      <th>10617</th>\n",
       "      <td>Belo Horizonte</td>\n",
       "      <td>169</td>\n",
       "      <td>3</td>\n",
       "      <td>2</td>\n",
       "      <td>4</td>\n",
       "      <td>0</td>\n",
       "      <td>acept</td>\n",
       "      <td>not furnished</td>\n",
       "      <td>0</td>\n",
       "      <td>3200</td>\n",
       "      <td>109</td>\n",
       "      <td>53</td>\n",
       "      <td>3362</td>\n",
       "    </tr>\n",
       "    <tr>\n",
       "      <th>10619</th>\n",
       "      <td>Belo Horizonte</td>\n",
       "      <td>360</td>\n",
       "      <td>1</td>\n",
       "      <td>1</td>\n",
       "      <td>8</td>\n",
       "      <td>0</td>\n",
       "      <td>acept</td>\n",
       "      <td>not furnished</td>\n",
       "      <td>0</td>\n",
       "      <td>2190</td>\n",
       "      <td>167</td>\n",
       "      <td>36</td>\n",
       "      <td>2393</td>\n",
       "    </tr>\n",
       "    <tr>\n",
       "      <th>10645</th>\n",
       "      <td>Porto Alegre</td>\n",
       "      <td>400</td>\n",
       "      <td>4</td>\n",
       "      <td>2</td>\n",
       "      <td>2</td>\n",
       "      <td>15</td>\n",
       "      <td>acept</td>\n",
       "      <td>furnished</td>\n",
       "      <td>2250</td>\n",
       "      <td>6300</td>\n",
       "      <td>500</td>\n",
       "      <td>92</td>\n",
       "      <td>9142</td>\n",
       "    </tr>\n",
       "    <tr>\n",
       "      <th>10659</th>\n",
       "      <td>Campinas</td>\n",
       "      <td>150</td>\n",
       "      <td>3</td>\n",
       "      <td>2</td>\n",
       "      <td>4</td>\n",
       "      <td>0</td>\n",
       "      <td>acept</td>\n",
       "      <td>furnished</td>\n",
       "      <td>0</td>\n",
       "      <td>3500</td>\n",
       "      <td>186</td>\n",
       "      <td>53</td>\n",
       "      <td>3739</td>\n",
       "    </tr>\n",
       "    <tr>\n",
       "      <th>10682</th>\n",
       "      <td>Porto Alegre</td>\n",
       "      <td>160</td>\n",
       "      <td>3</td>\n",
       "      <td>2</td>\n",
       "      <td>3</td>\n",
       "      <td>4</td>\n",
       "      <td>acept</td>\n",
       "      <td>furnished</td>\n",
       "      <td>850</td>\n",
       "      <td>3300</td>\n",
       "      <td>220</td>\n",
       "      <td>49</td>\n",
       "      <td>4419</td>\n",
       "    </tr>\n",
       "  </tbody>\n",
       "</table>\n",
       "</div>"
      ],
      "text/plain": [
       "                 city  area  rooms  bathroom  parking spaces  floor animal  \\\n",
       "10617  Belo Horizonte   169      3         2               4      0  acept   \n",
       "10619  Belo Horizonte   360      1         1               8      0  acept   \n",
       "10645    Porto Alegre   400      4         2               2     15  acept   \n",
       "10659        Campinas   150      3         2               4      0  acept   \n",
       "10682    Porto Alegre   160      3         2               3      4  acept   \n",
       "\n",
       "           furniture  hoa (R$)  rent amount (R$)  property tax (R$)  \\\n",
       "10617  not furnished         0              3200                109   \n",
       "10619  not furnished         0              2190                167   \n",
       "10645      furnished      2250              6300                500   \n",
       "10659      furnished         0              3500                186   \n",
       "10682      furnished       850              3300                220   \n",
       "\n",
       "       fire insurance (R$)  total (R$)  \n",
       "10617                   53        3362  \n",
       "10619                   36        2393  \n",
       "10645                   92        9142  \n",
       "10659                   53        3739  \n",
       "10682                   49        4419  "
      ]
     },
     "execution_count": 51,
     "metadata": {},
     "output_type": "execute_result"
    }
   ],
   "source": [
    "large_size_df.tail()"
   ]
  },
  {
   "cell_type": "code",
   "execution_count": 52,
   "metadata": {},
   "outputs": [
    {
     "data": {
      "text/plain": [
       "Index(['city', 'area', 'rooms', 'bathroom', 'parking spaces', 'floor',\n",
       "       'animal', 'furniture', 'hoa (R$)', 'rent amount (R$)',\n",
       "       'property tax (R$)', 'fire insurance (R$)', 'total (R$)'],\n",
       "      dtype='object')"
      ]
     },
     "execution_count": 52,
     "metadata": {},
     "output_type": "execute_result"
    }
   ],
   "source": [
    "large_size_df.columns"
   ]
  },
  {
   "cell_type": "markdown",
   "metadata": {},
   "source": [
    "#### Level 1 Analysis"
   ]
  },
  {
   "cell_type": "code",
   "execution_count": 53,
   "metadata": {},
   "outputs": [
    {
     "data": {
      "image/png": "[encoded data removed]",
      "text/plain": [
       "<Figure size 720x360 with 1 Axes>"
      ]
     },
     "metadata": {
      "needs_background": "light"
     },
     "output_type": "display_data"
    }
   ],
   "source": [
    "# Plot a bar chart to visualize the distribution of large-sized family properties \n",
    "city_counts = large_size_df['city'].value_counts()\n",
    "plt.figure(figsize=(10, 5))\n",
    "plt.bar(city_counts.index, city_counts.values)\n",
    "plt.xlabel('City')\n",
    "plt.ylabel('Number of Large-sized Family Properties')\n",
    "plt.title('Distribution of Large-sized Family Properties in Different Cities')\n",
    "plt.xticks(rotation=45)\n",
    "plt.show()"
   ]
  },
  {
   "cell_type": "markdown",
   "metadata": {},
   "source": [
    "##### Interpretation: For large size families, Belo Horizonte is the city with maximum number of properties. "
   ]
  },
  {
   "cell_type": "code",
   "execution_count": 54,
   "metadata": {},
   "outputs": [
    {
     "data": {
      "image/png": "[encoded data removed]",
      "text/plain": [
       "<Figure size 1080x504 with 2 Axes>"
      ]
     },
     "metadata": {
      "needs_background": "light"
     },
     "output_type": "display_data"
    }
   ],
   "source": [
    "fix, ax = plt.subplots(1,2, figsize = (15,7))\n",
    "ax[0].set_title(\"Count of city\")\n",
    "percentage = large_size_df[\"city\"].value_counts()\n",
    "labels = list(large_size_df[\"city\"].value_counts().index)\n",
    "\n",
    "sns.countplot(x = large_size_df[\"city\"], ax=ax[0])\n",
    "plt.pie(percentage,labels = labels, autopct = \"%0.2f%%\")\n",
    "\n",
    "plt.show()"
   ]
  },
  {
   "cell_type": "markdown",
   "metadata": {},
   "source": [
    "##### Interpretation: Belo Horizonte city covers approximately =~ 58.84% of the properties."
   ]
  },
  {
   "cell_type": "markdown",
   "metadata": {},
   "source": [
    "#### Level 2 Analysis"
   ]
  },
  {
   "cell_type": "markdown",
   "metadata": {},
   "source": [
    "#### Q.) How much total cost does large sized families have to pay?"
   ]
  },
  {
   "cell_type": "code",
   "execution_count": 55,
   "metadata": {},
   "outputs": [
    {
     "name": "stdout",
     "output_type": "stream",
     "text": [
      "The average cost is 8674.683010262257\n",
      "The maximum cost is 1120000\n"
     ]
    }
   ],
   "source": [
    "mean = large_size_df['total (R$)'].mean()\n",
    "maximum = large_size_df['total (R$)'].max()\n",
    "print(\"The average cost is\", mean)\n",
    "print(\"The maximum cost is\",maximum)"
   ]
  },
  {
   "cell_type": "code",
   "execution_count": 56,
   "metadata": {},
   "outputs": [
    {
     "data": {
      "image/png": "[encoded data removed]",
      "text/plain": [
       "<Figure size 864x432 with 1 Axes>"
      ]
     },
     "metadata": {
      "needs_background": "light"
     },
     "output_type": "display_data"
    }
   ],
   "source": [
    "plt.figure(figsize=(12, 6))\n",
    "sns.histplot(data=large_size_df, x='total (R$)', kde =True, bins=30, color='skyblue')\n",
    "plt.title('Distribution of Total Cost for Large Sized Families')\n",
    "plt.xlabel('Total Cost (R$)')\n",
    "plt.ylabel('Frequency')\n",
    "plt.grid(True)  \n",
    "plt.show()"
   ]
  },
  {
   "cell_type": "markdown",
   "metadata": {},
   "source": [
    "#### For large sized families, the minimum cost one has to pay is 8891 dollars and maximum cost one can pay is 112000 dollars."
   ]
  },
  {
   "cell_type": "markdown",
   "metadata": {},
   "source": [
    "#### Q.) What is the average cost of living  for a large sized family in different cities?"
   ]
  },
  {
   "cell_type": "code",
   "execution_count": 57,
   "metadata": {},
   "outputs": [
    {
     "name": "stdout",
     "output_type": "stream",
     "text": [
      "The average cost of living for a large sized family in different cities is:\n",
      "                 rent amount (R$)     hoa (R$)  property tax (R$)  \\\n",
      "city                                                               \n",
      "Belo Horizonte       6362.242248  3000.777132         504.684109   \n",
      "Campinas             5261.696335  1009.335079         388.413613   \n",
      "Porto Alegre         5740.400000   714.164706         396.570588   \n",
      "\n",
      "                fire insurance (R$)  \n",
      "city                                 \n",
      "Belo Horizonte            94.567829  \n",
      "Campinas                  74.570681  \n",
      "Porto Alegre              94.676471  \n"
     ]
    },
    {
     "data": {
      "image/png": "[encoded data removed]",
      "text/plain": [
       "<Figure size 864x432 with 1 Axes>"
      ]
     },
     "metadata": {
      "needs_background": "light"
     },
     "output_type": "display_data"
    }
   ],
   "source": [
    "# Calculate the average costs for large-sized family properties in each city\n",
    "average_costs_for_large_size = large_size_df.groupby(['city'])[['rent amount (R$)', 'hoa (R$)', 'property tax (R$)', 'fire insurance (R$)']].mean()\n",
    "\n",
    "print(\"The average cost of living for a large sized family in different cities is:\\n\",average_costs_for_large_size )\n",
    "# Plot a bar chart to visualize the average costs for large-sized family properties in different cities\n",
    "average_costs_for_large_size.plot(kind='bar', figsize=(12, 6))\n",
    "plt.xlabel('City')\n",
    "plt.ylabel('Average Cost (R$)')\n",
    "plt.title('Average Costs for Large-sized Family Properties in Different Cities')\n",
    "plt.xticks(rotation=45)\n",
    "plt.show()"
   ]
  },
  {
   "cell_type": "markdown",
   "metadata": {},
   "source": [
    "##### Campinas is most feasible city to live among all the cities."
   ]
  },
  {
   "cell_type": "code",
   "execution_count": null,
   "metadata": {},
   "outputs": [],
   "source": []
  },
  {
   "cell_type": "markdown",
   "metadata": {},
   "source": [
    "### Analysis conclusion:"
   ]
  },
  {
   "cell_type": "markdown",
   "metadata": {},
   "source": [
    "##### Univariate, Bivariate and Multivariate Analysis"
   ]
  },
  {
   "cell_type": "markdown",
   "metadata": {},
   "source": [
    "#### For Bachelors:\n",
    "* 1 room, 1 bathroom, and 1 parking space.\n",
    "* Feasible place to live Campinas. \n",
    "* Most costly place to live Belo Horizonte.\n",
    "* Minimum cost one has to pay is 499 dollars and maximum one has to pay is 32750 dollars\n",
    "\n",
    "#### For mid- sized families:\n",
    "* 2 or 3 rooms, 2 or more than 2 bathrooms, and 2 or more than 2 parking spaces.\n",
    "* The total cost is almost same in all 3 cities.\n",
    "* Minimum rent 550 dollars and maximum is 23250 dollars\n",
    "\n",
    "#### For large-sized families:\n",
    "* more than 3 rooms, more than 3 bathrooms, more than 2 parking spaces.\n",
    "* Feasible place to live Campinas.\n",
    "* Minimum cost one has to pay is 8674.68 dollars and maximum cost is 112000 dollars."
   ]
  },
  {
   "cell_type": "markdown",
   "metadata": {},
   "source": [
    "#### Recommendations for Sao Paulo Residents:\n",
    "* Sao Paulo residents looking for affordable housing options should consider exploring houses in Campinas.\n",
    "* If Campinas doesn't offer sufficient options, their next choice could be Porto Alegre and Belo Horizonte.\n",
    "* However, in Belo Horizonte, be prepared for higher rents\n",
    "\n",
    "#### Recommendations for Rio De Janerio:\n",
    "* Rio de Janeiro residents can find budget-friendly houses in Campinas.\n",
    "* If Campinas lacks choices, their next preferable option would be Porto Alegre.\n",
    "\n",
    "#### Recommendations for bachelors:\n",
    "    * 1 bedroom (1bhk)\n",
    "    * 1 bathroom\n",
    "    * 1 parking space\n",
    "    * Furnished or non-furnished\n",
    "    * Animal Friendly or unfriendly\n",
    "\n",
    "* Option 1: Campinas\n",
    "* Option 2: Porto Alegre\n",
    "\n",
    "#### Recommendations for mid size families:\n",
    "    * 2 or 3 bedroom (2bhk or 3bhk)\n",
    "    * 2 bathroom\n",
    "    * 2 parking space\n",
    "    * Furnished or non-furnished\n",
    "    * Animal Friendly or unfriendly\n",
    "\n",
    "* Option 1: Campinas\n",
    "* Option 2: Porto Alegre\n",
    "\n",
    "#### Recommendations for large size families:\n",
    "    * more than 3 bedroom (3bhk or <3bhk)\n",
    "    * more than 3 bathroom\n",
    "    * more than 2 parking space\n",
    "    * Furnished or non-furnished\n",
    "    * Animal Friendly or unfriendly\n",
    "\n",
    "* Option 1: Campinas\n",
    "* Option 2: Belo Horizonte."
   ]
  },
  {
   "cell_type": "code",
   "execution_count": null,
   "metadata": {},
   "outputs": [],
   "source": []
  }
 ],
 "metadata": {
  "kernelspec": {
   "display_name": "Python 3",
   "language": "python",
   "name": "python3"
  },
  "language_info": {
   "codemirror_mode": {
    "name": "ipython",
    "version": 3
   },
   "file_extension": ".py",
   "mimetype": "text/x-python",
   "name": "python",
   "nbconvert_exporter": "python",
   "pygments_lexer": "ipython3",
   "version": "3.8.3"
  }
 },
 "nbformat": 4,
 "nbformat_minor": 4
}
